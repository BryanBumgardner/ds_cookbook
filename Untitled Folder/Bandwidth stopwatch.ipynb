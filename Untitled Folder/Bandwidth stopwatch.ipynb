{
 "cells": [
  {
   "cell_type": "code",
   "execution_count": null,
   "metadata": {
    "collapsed": true
   },
   "outputs": [],
   "source": [
    "# python 3.5\n",
    "import pyspeedtest # sudo pip install pyspeedtest\n",
    "import os.path\n",
    "import pandas as pd\n",
    "import csv\n",
    "import time\n",
    "from time import localtime, strftime\n"
   ]
  },
  {
   "cell_type": "code",
   "execution_count": null,
   "metadata": {
    "collapsed": false
   },
   "outputs": [],
   "source": [
    "file_path = \"Bandwidth_Stopwatch_data.csv\"\n",
    "# establish filepath\n",
    "\n",
    "if os.path.isfile(file_path) == False:\n",
    "    template_df = pd.DataFrame(columns=['date and time', 'download speed', 'ping', 'upload speed'])\n",
    "    template_df.to_csv(file_path, mode='w', header=True, index=False)\n",
    "#checks if file exists, if not, creates empty file with proper column naming. For whatever reason even though the columns aren't in the same order as the write below, they come out in the same order in the final csv.\n"
   ]
  },
  {
   "cell_type": "code",
   "execution_count": null,
   "metadata": {
    "collapsed": false
   },
   "outputs": [],
   "source": []
  },
  {
   "cell_type": "code",
   "execution_count": null,
   "metadata": {
    "collapsed": false
   },
   "outputs": [],
   "source": [
    "\n"
   ]
  },
  {
   "cell_type": "code",
   "execution_count": null,
   "metadata": {
    "collapsed": true
   },
   "outputs": [],
   "source": []
  },
  {
   "cell_type": "code",
   "execution_count": null,
   "metadata": {
    "collapsed": true
   },
   "outputs": [],
   "source": []
  },
  {
   "cell_type": "code",
   "execution_count": 23,
   "metadata": {
    "collapsed": true
   },
   "outputs": [],
   "source": [
    "# python 3.5 \n",
    "import pyspeedtest # sudo pip install pyspeedtest\n",
    "import os.path\n",
    "import pandas as pd\n",
    "import csv\n",
    "import time\n",
    "from time import localtime, strftime"
   ]
  },
  {
   "cell_type": "code",
   "execution_count": 24,
   "metadata": {
    "collapsed": true
   },
   "outputs": [],
   "source": [
    "header = ['date and time', 'download speed', 'ping', 'upload speed']"
   ]
  },
  {
   "cell_type": "code",
   "execution_count": 25,
   "metadata": {
    "collapsed": true
   },
   "outputs": [],
   "source": [
    "def loop_of_speed_tests(csvfile):\n",
    "    csv_writer = csv.writer(csvfile)\n",
    "    csv_writer.writerow(header)\n",
    "    print(\"To end the program, simply close the Terminal window, or type Command + C.\")\n",
    "    while True:\n",
    "        print(\"Speed data recorded: \" + strftime(\"%Y-%m-%d %H:%M:%S\", localtime()))\n",
    "        \n",
    "        st = pyspeedtest.SpeedTest()\n",
    "        \n",
    "        csv_writer.writerow([strftime(\"%Y-%m-%d %H:%M:%S\", localtime()),\n",
    "                        st.download(),\n",
    "                        st.ping(),\n",
    "                        st.upload()])\n",
    "        csvfile.flush()\n",
    "        time.sleep(120)\n",
    "    "
   ]
  },
  {
   "cell_type": "code",
   "execution_count": null,
   "metadata": {
    "collapsed": false
   },
   "outputs": [
    {
     "name": "stdout",
     "output_type": "stream",
     "text": [
      "To end the program, simply close the Terminal window.\n",
      "Speed data recorded: 2018-03-28 14:55:10\n"
     ]
    }
   ],
   "source": [
    "with open(\"Bandwidth_Stopwatch_data.csv\", 'w') as csvfile:\n",
    "    loop_of_speed_tests(csvfile)"
   ]
  },
  {
   "cell_type": "code",
   "execution_count": null,
   "metadata": {
    "collapsed": true
   },
   "outputs": [],
   "source": []
  },
  {
   "cell_type": "code",
   "execution_count": null,
   "metadata": {
    "collapsed": true
   },
   "outputs": [],
   "source": []
  },
  {
   "cell_type": "code",
   "execution_count": null,
   "metadata": {
    "collapsed": true
   },
   "outputs": [],
   "source": []
  },
  {
   "cell_type": "code",
   "execution_count": null,
   "metadata": {
    "collapsed": true
   },
   "outputs": [],
   "source": []
  }
 ],
 "metadata": {
  "anaconda-cloud": {},
  "kernelspec": {
   "display_name": "Python [Root]",
   "language": "python",
   "name": "Python [Root]"
  },
  "language_info": {
   "codemirror_mode": {
    "name": "ipython",
    "version": 3
   },
   "file_extension": ".py",
   "mimetype": "text/x-python",
   "name": "python",
   "nbconvert_exporter": "python",
   "pygments_lexer": "ipython3",
   "version": "3.5.2"
  }
 },
 "nbformat": 4,
 "nbformat_minor": 0
}
